{
 "cells": [
  {
   "cell_type": "markdown",
   "id": "11af527d",
   "metadata": {},
   "source": [
    "https://www.youtube.com/watch?v=Jj7WD71qQWE&list=WL&index=1&ab_channel=LanderAnalytics"
   ]
  },
  {
   "cell_type": "code",
   "execution_count": null,
   "id": "ffe8788b",
   "metadata": {},
   "outputs": [],
   "source": [
    "import numpy as np\n",
    "import pandas as pd\n",
    "import matplotlib.pyplot as plt"
   ]
  },
  {
   "cell_type": "code",
   "execution_count": null,
   "id": "f405e861",
   "metadata": {},
   "outputs": [],
   "source": [
    "training_set = pd.read_csv('../datasets/salary_data_training.csv')\n",
    "\n",
    "x_train = training_set['YearsExperience'].values\n",
    "y_train = training_set['Salary'].values"
   ]
  },
  {
   "cell_type": "code",
   "execution_count": null,
   "id": "072aed79",
   "metadata": {},
   "outputs": [],
   "source": [
    "plt.scatter(x_train, y_train)\n",
    "plt.xlabel(\"YearsExperience\")\n",
    "plt.ylabel(\"Salary\")\n",
    "plt.show()"
   ]
  },
  {
   "cell_type": "markdown",
   "id": "4aba760e",
   "metadata": {},
   "source": [
    "**Implementation Plan**\n",
    "1. **Cost Function** using Mean Squared Error (MSE)\n",
    "2. **Gradient Function** to Compute Derivatives of the Cost Function\n",
    "3. **Gradient Descent Function**"
   ]
  },
  {
   "cell_type": "markdown",
   "id": "4ea3aa3f",
   "metadata": {},
   "source": [
    "$$ \\begin{align*}\n",
    "C(w, b) &= \\frac{1}{2m} \\sum_{i=1}^{m} \\left( f(x_i) - y_i \\right)^2 \\\\\n",
    "&= \\frac{1}{2m} \\sum_{i=1}^{m} \\left( (w x_i + b) - y_i \\right)^2\n",
    "\\end{align*} $$"
   ]
  },
  {
   "cell_type": "code",
   "execution_count": null,
   "id": "1ee7b01d",
   "metadata": {},
   "outputs": [],
   "source": [
    "def cost_function(x, y, w, b):\n",
    "    m = len(x)\n",
    "    cost_sum = 0\n",
    "\n",
    "    for i in range(m):\n",
    "        f = w * x[i] + b\n",
    "        cost = (f - y[i]) ** 2\n",
    "        cost_sum += cost\n",
    "\n",
    "    total_cost = (1/(2*m)) * cost_sum\n",
    "    return total_cost"
   ]
  },
  {
   "cell_type": "code",
   "execution_count": null,
   "id": "79b49277",
   "metadata": {},
   "outputs": [],
   "source": [
    "def gradient_function(x, y, w, b):\n",
    "    m = len(x)\n",
    "    dc_dw = 0\n",
    "    dc_db = 0\n",
    "\n",
    "    for i in range(m):\n",
    "        f = w * x[i] + b\n",
    "\n",
    "        dc_dw += (f - y[i]) * x[i]\n",
    "        dc_db += (f - y[i])\n",
    "\n",
    "    dc_dw = (1/m) * dc_dw\n",
    "    dc_db = (1/m) * dc_db\n",
    "\n",
    "    return dc_dw, dc_db"
   ]
  },
  {
   "cell_type": "code",
   "execution_count": null,
   "id": "be3e07a1",
   "metadata": {},
   "outputs": [],
   "source": [
    "def gradient_descent(x, y, alpha, iterations):\n",
    "    w = 0\n",
    "    b = 0\n",
    "\n",
    "    for i in range(iterations):\n",
    "        dc_dw, dc_db = gradient_function(x, y, w, b)\n",
    "\n",
    "        w = w - alpha * dc_dw\n",
    "        b = b - alpha * dc_db\n",
    "\n",
    "        print(f\"Iteration {i}: Cost {cost_function(x, y, w, b)}\")\n",
    "\n",
    "    return w, b"
   ]
  },
  {
   "cell_type": "code",
   "execution_count": null,
   "id": "3b4ef88c",
   "metadata": {},
   "outputs": [],
   "source": [
    "learning_rate = 0.01\n",
    "iterations = 10000\n",
    "\n",
    "final_w, final_b = gradient_descent(x_train, y_train, learning_rate, iterations)\n",
    "\n",
    "print(f\"w: {final_w:.4f}, b: {final_b:.4f}\")"
   ]
  },
  {
   "cell_type": "code",
   "execution_count": null,
   "id": "3189086a",
   "metadata": {},
   "outputs": [],
   "source": [
    "plt.scatter(x_train, y_train, label='Data Points')\n",
    "\n",
    "x_vals = np.linspace(min(x_train), max(x_train), 100)\n",
    "y_vals = final_w * x_vals + final_b\n",
    "plt.plot(x_vals, y_vals, color='red', label='Regression Line')\n",
    "\n",
    "plt.xlabel(\"YearsExperience\")\n",
    "plt.ylabel(\"Salary\")\n",
    "plt.legend()\n",
    "plt.show()"
   ]
  }
 ],
 "metadata": {
  "kernelspec": {
   "display_name": "finance",
   "language": "python",
   "name": "python3"
  },
  "language_info": {
   "codemirror_mode": {
    "name": "ipython",
    "version": 3
   },
   "file_extension": ".py",
   "mimetype": "text/x-python",
   "name": "python",
   "nbconvert_exporter": "python",
   "pygments_lexer": "ipython3",
   "version": "3.13.2"
  }
 },
 "nbformat": 4,
 "nbformat_minor": 5
}
